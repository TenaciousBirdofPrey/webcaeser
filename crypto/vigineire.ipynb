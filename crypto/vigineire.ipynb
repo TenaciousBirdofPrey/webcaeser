{
 "cells": [
  {
   "cell_type": "markdown",
   "metadata": {},
   "source": [
    "\n",
    "Type a message:\n",
    "The crow flies at midnight!\n",
    "Encryption key:\n",
    "boom\n",
    "Uvs osck rmwse bh auebwsih"
   ]
  },
  {
   "cell_type": "code",
   "execution_count": 1,
   "metadata": {
    "collapsed": true
   },
   "outputs": [],
   "source": [
    "def alphabet_position(letter):\n",
    "    if letter.isupper():\n",
    "        return ord(letter)-65\n",
    "    else:\n",
    "        return ord(letter)-97"
   ]
  },
  {
   "cell_type": "code",
   "execution_count": 2,
   "metadata": {
    "collapsed": true
   },
   "outputs": [],
   "source": [
    "def vigineire_salad(char, rot):\n",
    "    pos = alphabet_position(char)\n",
    "    shift = rot%26\n",
    "    key = pos +shift\n",
    "    if key > 25:\n",
    "        key = key%26\n",
    "    if char.isupper():\n",
    "        return (chr(65+key))\n",
    "    else:\n",
    "        return (chr(97+key))"
   ]
  },
  {
   "cell_type": "code",
   "execution_count": 19,
   "metadata": {
    "collapsed": true
   },
   "outputs": [],
   "source": [
    "def encrypt(str, key):\n",
    "    \n",
    "    key_list =[]\n",
    "    key_len = len(key)\n",
    "    vig = 0\n",
    "    for e in key:\n",
    "        key_list.append(alphabet_position(e))\n",
    "    \n",
    "    \n",
    "    code = []\n",
    "    for e in str:\n",
    "        if e.isalpha():\n",
    "            \n",
    "            vig_counter = vig % key_len\n",
    "            code.append(vigineire_salad(e,key_list[vig_counter]))\n",
    "            vig = vig + 1\n",
    "        else:\n",
    "            code.append(e)\n",
    "    return \"\".join(code)"
   ]
  },
  {
   "cell_type": "code",
   "execution_count": 20,
   "metadata": {
    "collapsed": false
   },
   "outputs": [],
   "source": [
    "def make_key(key):\n",
    "    key_list=[]\n",
    "    key_len = len(key)\n",
    "    for e in key:\n",
    "        key_list.append(alphabet_position(e))\n",
    "    return key_list, key_len"
   ]
  },
  {
   "cell_type": "code",
   "execution_count": 21,
   "metadata": {
    "collapsed": false
   },
   "outputs": [
    {
     "data": {
      "text/plain": [
       "([1, 14, 14, 12], 4)"
      ]
     },
     "execution_count": 21,
     "metadata": {},
     "output_type": "execute_result"
    }
   ],
   "source": [
    "make_key('Boom')"
   ]
  },
  {
   "cell_type": "code",
   "execution_count": 23,
   "metadata": {
    "collapsed": false
   },
   "outputs": [
    {
     "data": {
      "text/plain": [
       "'Uvs osck rmwse bh auebwsih!'"
      ]
     },
     "execution_count": 23,
     "metadata": {},
     "output_type": "execute_result"
    }
   ],
   "source": [
    "encrypt(\"The crow flies at midnight!\",\"boom\")"
   ]
  },
  {
   "cell_type": "code",
   "execution_count": null,
   "metadata": {
    "collapsed": true
   },
   "outputs": [],
   "source": [
    "Uvs osck rmwse bh auebwsih"
   ]
  }
 ],
 "metadata": {
  "kernelspec": {
   "display_name": "Python 3",
   "language": "python",
   "name": "python3"
  },
  "language_info": {
   "codemirror_mode": {
    "name": "ipython",
    "version": 3
   },
   "file_extension": ".py",
   "mimetype": "text/x-python",
   "name": "python",
   "nbconvert_exporter": "python",
   "pygments_lexer": "ipython3",
   "version": "3.5.1"
  }
 },
 "nbformat": 4,
 "nbformat_minor": 0
}
